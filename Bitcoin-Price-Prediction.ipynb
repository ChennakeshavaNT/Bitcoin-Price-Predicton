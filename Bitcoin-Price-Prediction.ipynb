{
 "cells": [
  {
   "cell_type": "markdown",
   "metadata": {},
   "source": [
    "# BitCoin Price Predition "
   ]
  },
  {
   "cell_type": "markdown",
   "metadata": {},
   "source": [
    "Before executing this File Please install the given requirments using the commands given below:-\n",
    "\n",
    "1. Pandas module :- pip install pandas\n",
    "2. numpy module:- pip install numpy\n",
    "3. seaborn module:- pip install seaborn"
   ]
  },
  {
   "cell_type": "markdown",
   "metadata": {},
   "source": [
    "### Importing Required modules"
   ]
  },
  {
   "cell_type": "code",
   "execution_count": 49,
   "metadata": {},
   "outputs": [],
   "source": [
    "import pandas as pd\n",
    "import numpy as np\n",
    "import seaborn as sns\n",
    "from scipy import stats\n",
    "from sklearn.linear_model import LinearRegression  \n",
    "from sklearn.model_selection import train_test_split \n",
    "from sklearn.metrics import mean_squared_error"
   ]
  },
  {
   "cell_type": "markdown",
   "metadata": {},
   "source": [
    "### Read Bitcoin_Dataset"
   ]
  },
  {
   "cell_type": "code",
   "execution_count": 50,
   "metadata": {},
   "outputs": [
    {
     "data": {
      "text/html": [
       "<div>\n",
       "<style scoped>\n",
       "    .dataframe tbody tr th:only-of-type {\n",
       "        vertical-align: middle;\n",
       "    }\n",
       "\n",
       "    .dataframe tbody tr th {\n",
       "        vertical-align: top;\n",
       "    }\n",
       "\n",
       "    .dataframe thead th {\n",
       "        text-align: right;\n",
       "    }\n",
       "</style>\n",
       "<table border=\"1\" class=\"dataframe\">\n",
       "  <thead>\n",
       "    <tr style=\"text-align: right;\">\n",
       "      <th></th>\n",
       "      <th>Date</th>\n",
       "      <th>btc_market_price</th>\n",
       "      <th>btc_total_bitcoins</th>\n",
       "      <th>btc_market_cap</th>\n",
       "      <th>btc_trade_volume</th>\n",
       "      <th>btc_blocks_size</th>\n",
       "      <th>btc_avg_block_size</th>\n",
       "      <th>btc_n_orphaned_blocks</th>\n",
       "      <th>btc_n_transactions_per_block</th>\n",
       "      <th>btc_median_confirmation_time</th>\n",
       "      <th>...</th>\n",
       "      <th>btc_cost_per_transaction_percent</th>\n",
       "      <th>btc_cost_per_transaction</th>\n",
       "      <th>btc_n_unique_addresses</th>\n",
       "      <th>btc_n_transactions</th>\n",
       "      <th>btc_n_transactions_total</th>\n",
       "      <th>btc_n_transactions_excluding_popular</th>\n",
       "      <th>btc_n_transactions_excluding_chains_longer_than_100</th>\n",
       "      <th>btc_output_volume</th>\n",
       "      <th>btc_estimated_transaction_volume</th>\n",
       "      <th>btc_estimated_transaction_volume_usd</th>\n",
       "    </tr>\n",
       "  </thead>\n",
       "  <tbody>\n",
       "    <tr>\n",
       "      <th>0</th>\n",
       "      <td>2/17/2010</td>\n",
       "      <td>0.0</td>\n",
       "      <td>2043200.0</td>\n",
       "      <td>0.0</td>\n",
       "      <td>0.0</td>\n",
       "      <td>0.0</td>\n",
       "      <td>0.000235</td>\n",
       "      <td>0</td>\n",
       "      <td>1.0</td>\n",
       "      <td>0.0</td>\n",
       "      <td>...</td>\n",
       "      <td>31.781022</td>\n",
       "      <td>0.0</td>\n",
       "      <td>241</td>\n",
       "      <td>244</td>\n",
       "      <td>41240</td>\n",
       "      <td>244</td>\n",
       "      <td>244</td>\n",
       "      <td>65173.13</td>\n",
       "      <td>36500.0</td>\n",
       "      <td>0.0</td>\n",
       "    </tr>\n",
       "    <tr>\n",
       "      <th>1</th>\n",
       "      <td>2/18/2010</td>\n",
       "      <td>0.0</td>\n",
       "      <td>2054650.0</td>\n",
       "      <td>0.0</td>\n",
       "      <td>0.0</td>\n",
       "      <td>0.0</td>\n",
       "      <td>0.000241</td>\n",
       "      <td>0</td>\n",
       "      <td>1.0</td>\n",
       "      <td>0.0</td>\n",
       "      <td>...</td>\n",
       "      <td>154.463801</td>\n",
       "      <td>0.0</td>\n",
       "      <td>234</td>\n",
       "      <td>235</td>\n",
       "      <td>41475</td>\n",
       "      <td>235</td>\n",
       "      <td>235</td>\n",
       "      <td>18911.74</td>\n",
       "      <td>7413.0</td>\n",
       "      <td>0.0</td>\n",
       "    </tr>\n",
       "    <tr>\n",
       "      <th>2</th>\n",
       "      <td>2/19/2010</td>\n",
       "      <td>0.0</td>\n",
       "      <td>2063600.0</td>\n",
       "      <td>0.0</td>\n",
       "      <td>0.0</td>\n",
       "      <td>0.0</td>\n",
       "      <td>0.000228</td>\n",
       "      <td>0</td>\n",
       "      <td>1.0</td>\n",
       "      <td>0.0</td>\n",
       "      <td>...</td>\n",
       "      <td>1278.516635</td>\n",
       "      <td>0.0</td>\n",
       "      <td>185</td>\n",
       "      <td>183</td>\n",
       "      <td>41658</td>\n",
       "      <td>183</td>\n",
       "      <td>183</td>\n",
       "      <td>9749.98</td>\n",
       "      <td>700.0</td>\n",
       "      <td>0.0</td>\n",
       "    </tr>\n",
       "    <tr>\n",
       "      <th>3</th>\n",
       "      <td>2/20/2010</td>\n",
       "      <td>0.0</td>\n",
       "      <td>2074700.0</td>\n",
       "      <td>0.0</td>\n",
       "      <td>0.0</td>\n",
       "      <td>0.0</td>\n",
       "      <td>0.000218</td>\n",
       "      <td>0</td>\n",
       "      <td>1.0</td>\n",
       "      <td>0.0</td>\n",
       "      <td>...</td>\n",
       "      <td>22186.687990</td>\n",
       "      <td>0.0</td>\n",
       "      <td>224</td>\n",
       "      <td>224</td>\n",
       "      <td>41882</td>\n",
       "      <td>224</td>\n",
       "      <td>224</td>\n",
       "      <td>11150.03</td>\n",
       "      <td>50.0</td>\n",
       "      <td>0.0</td>\n",
       "    </tr>\n",
       "    <tr>\n",
       "      <th>4</th>\n",
       "      <td>2/21/2010</td>\n",
       "      <td>0.0</td>\n",
       "      <td>2085400.0</td>\n",
       "      <td>0.0</td>\n",
       "      <td>0.0</td>\n",
       "      <td>0.0</td>\n",
       "      <td>0.000234</td>\n",
       "      <td>0</td>\n",
       "      <td>1.0</td>\n",
       "      <td>0.0</td>\n",
       "      <td>...</td>\n",
       "      <td>689.179876</td>\n",
       "      <td>0.0</td>\n",
       "      <td>218</td>\n",
       "      <td>218</td>\n",
       "      <td>42100</td>\n",
       "      <td>218</td>\n",
       "      <td>218</td>\n",
       "      <td>12266.83</td>\n",
       "      <td>1553.0</td>\n",
       "      <td>0.0</td>\n",
       "    </tr>\n",
       "  </tbody>\n",
       "</table>\n",
       "<p>5 rows × 24 columns</p>\n",
       "</div>"
      ],
      "text/plain": [
       "        Date  btc_market_price  btc_total_bitcoins  btc_market_cap  \\\n",
       "0  2/17/2010               0.0           2043200.0             0.0   \n",
       "1  2/18/2010               0.0           2054650.0             0.0   \n",
       "2  2/19/2010               0.0           2063600.0             0.0   \n",
       "3  2/20/2010               0.0           2074700.0             0.0   \n",
       "4  2/21/2010               0.0           2085400.0             0.0   \n",
       "\n",
       "   btc_trade_volume  btc_blocks_size  btc_avg_block_size  \\\n",
       "0               0.0              0.0            0.000235   \n",
       "1               0.0              0.0            0.000241   \n",
       "2               0.0              0.0            0.000228   \n",
       "3               0.0              0.0            0.000218   \n",
       "4               0.0              0.0            0.000234   \n",
       "\n",
       "   btc_n_orphaned_blocks  btc_n_transactions_per_block  \\\n",
       "0                      0                           1.0   \n",
       "1                      0                           1.0   \n",
       "2                      0                           1.0   \n",
       "3                      0                           1.0   \n",
       "4                      0                           1.0   \n",
       "\n",
       "   btc_median_confirmation_time  ...  btc_cost_per_transaction_percent  \\\n",
       "0                           0.0  ...                         31.781022   \n",
       "1                           0.0  ...                        154.463801   \n",
       "2                           0.0  ...                       1278.516635   \n",
       "3                           0.0  ...                      22186.687990   \n",
       "4                           0.0  ...                        689.179876   \n",
       "\n",
       "   btc_cost_per_transaction  btc_n_unique_addresses  btc_n_transactions  \\\n",
       "0                       0.0                     241                 244   \n",
       "1                       0.0                     234                 235   \n",
       "2                       0.0                     185                 183   \n",
       "3                       0.0                     224                 224   \n",
       "4                       0.0                     218                 218   \n",
       "\n",
       "   btc_n_transactions_total  btc_n_transactions_excluding_popular  \\\n",
       "0                     41240                                   244   \n",
       "1                     41475                                   235   \n",
       "2                     41658                                   183   \n",
       "3                     41882                                   224   \n",
       "4                     42100                                   218   \n",
       "\n",
       "   btc_n_transactions_excluding_chains_longer_than_100  btc_output_volume  \\\n",
       "0                                                244             65173.13   \n",
       "1                                                235             18911.74   \n",
       "2                                                183              9749.98   \n",
       "3                                                224             11150.03   \n",
       "4                                                218             12266.83   \n",
       "\n",
       "   btc_estimated_transaction_volume  btc_estimated_transaction_volume_usd  \n",
       "0                           36500.0                                   0.0  \n",
       "1                            7413.0                                   0.0  \n",
       "2                             700.0                                   0.0  \n",
       "3                              50.0                                   0.0  \n",
       "4                            1553.0                                   0.0  \n",
       "\n",
       "[5 rows x 24 columns]"
      ]
     },
     "execution_count": 50,
     "metadata": {},
     "output_type": "execute_result"
    }
   ],
   "source": [
    "data = pd.read_csv(\"bitcoin_dataset.csv\") \n",
    "data.head()"
   ]
  },
  {
   "cell_type": "code",
   "execution_count": 51,
   "metadata": {},
   "outputs": [
    {
     "data": {
      "text/plain": [
       "Date                                                     12/6/2012\n",
       "btc_market_price                                           13.6888\n",
       "btc_total_bitcoins                                     1.05288e+07\n",
       "btc_market_cap                                         1.44126e+08\n",
       "btc_trade_volume                                            718984\n",
       "btc_blocks_size                                               3829\n",
       "btc_avg_block_size                                        0.127314\n",
       "btc_n_orphaned_blocks                                            0\n",
       "btc_n_transactions_per_block                                   250\n",
       "btc_median_confirmation_time                                  11.6\n",
       "btc_hash_rate                                              24.4457\n",
       "btc_difficulty                                         3.43891e+06\n",
       "btc_miners_revenue                                         49361.8\n",
       "btc_transaction_fees                                       31.0582\n",
       "btc_cost_per_transaction_percent                           1.64681\n",
       "btc_cost_per_transaction                                   1.32689\n",
       "btc_n_unique_addresses                                       29988\n",
       "btc_n_transactions                                           37201\n",
       "btc_n_transactions_total                                   9596721\n",
       "btc_n_transactions_excluding_popular                         13587\n",
       "btc_n_transactions_excluding_chains_longer_than_100          15280\n",
       "btc_output_volume                                      3.06098e+06\n",
       "btc_estimated_transaction_volume                            218968\n",
       "btc_estimated_transaction_volume_usd                   2.99742e+06\n",
       "Name: 1023, dtype: object"
      ]
     },
     "metadata": {},
     "output_type": "display_data"
    }
   ],
   "source": [
    "display(data.iloc[1023]) "
   ]
  },
  {
   "cell_type": "code",
   "execution_count": 52,
   "metadata": {},
   "outputs": [
    {
     "name": "stdout",
     "output_type": "stream",
     "text": [
      "<class 'pandas.core.frame.DataFrame'>\n",
      "RangeIndex: 2906 entries, 0 to 2905\n",
      "Data columns (total 24 columns):\n",
      " #   Column                                               Non-Null Count  Dtype  \n",
      "---  ------                                               --------------  -----  \n",
      " 0   Date                                                 2906 non-null   object \n",
      " 1   btc_market_price                                     2906 non-null   float64\n",
      " 2   btc_total_bitcoins                                   2879 non-null   float64\n",
      " 3   btc_market_cap                                       2906 non-null   float64\n",
      " 4   btc_trade_volume                                     2885 non-null   float64\n",
      " 5   btc_blocks_size                                      2877 non-null   float64\n",
      " 6   btc_avg_block_size                                   2906 non-null   float64\n",
      " 7   btc_n_orphaned_blocks                                2906 non-null   int64  \n",
      " 8   btc_n_transactions_per_block                         2906 non-null   float64\n",
      " 9   btc_median_confirmation_time                         2894 non-null   float64\n",
      " 10  btc_hash_rate                                        2906 non-null   float64\n",
      " 11  btc_difficulty                                       2890 non-null   float64\n",
      " 12  btc_miners_revenue                                   2906 non-null   float64\n",
      " 13  btc_transaction_fees                                 2896 non-null   float64\n",
      " 14  btc_cost_per_transaction_percent                     2906 non-null   float64\n",
      " 15  btc_cost_per_transaction                             2906 non-null   float64\n",
      " 16  btc_n_unique_addresses                               2906 non-null   int64  \n",
      " 17  btc_n_transactions                                   2906 non-null   int64  \n",
      " 18  btc_n_transactions_total                             2906 non-null   int64  \n",
      " 19  btc_n_transactions_excluding_popular                 2906 non-null   int64  \n",
      " 20  btc_n_transactions_excluding_chains_longer_than_100  2906 non-null   int64  \n",
      " 21  btc_output_volume                                    2906 non-null   float64\n",
      " 22  btc_estimated_transaction_volume                     2906 non-null   float64\n",
      " 23  btc_estimated_transaction_volume_usd                 2906 non-null   float64\n",
      "dtypes: float64(17), int64(6), object(1)\n",
      "memory usage: 545.0+ KB\n"
     ]
    }
   ],
   "source": [
    "data.info()"
   ]
  },
  {
   "cell_type": "code",
   "execution_count": 53,
   "metadata": {},
   "outputs": [
    {
     "data": {
      "image/png": "[encoded data removed]",
      "text/plain": [
       "<Figure size 432x432 with 3 Axes>"
      ]
     },
     "metadata": {
      "needs_background": "light"
     },
     "output_type": "display_data"
    }
   ],
   "source": [
    "p = sns.jointplot(data=data,x='btc_market_price', y='btc_market_cap')"
   ]
  },
  {
   "cell_type": "code",
   "execution_count": 54,
   "metadata": {},
   "outputs": [
    {
     "data": {
      "text/html": [
       "<div>\n",
       "<style scoped>\n",
       "    .dataframe tbody tr th:only-of-type {\n",
       "        vertical-align: middle;\n",
       "    }\n",
       "\n",
       "    .dataframe tbody tr th {\n",
       "        vertical-align: top;\n",
       "    }\n",
       "\n",
       "    .dataframe thead th {\n",
       "        text-align: right;\n",
       "    }\n",
       "</style>\n",
       "<table border=\"1\" class=\"dataframe\">\n",
       "  <thead>\n",
       "    <tr style=\"text-align: right;\">\n",
       "      <th></th>\n",
       "      <th>btc_market_cap</th>\n",
       "      <th>btc_n_transactions</th>\n",
       "      <th>btc_miners_revenue</th>\n",
       "      <th>btc_cost_per_transaction</th>\n",
       "      <th>btc_difficulty</th>\n",
       "      <th>btc_hash_rate</th>\n",
       "      <th>btc_cost_per_transaction_percent</th>\n",
       "      <th>btc_market_price</th>\n",
       "    </tr>\n",
       "  </thead>\n",
       "  <tbody>\n",
       "    <tr>\n",
       "      <th>0</th>\n",
       "      <td>0.000000e+00</td>\n",
       "      <td>244</td>\n",
       "      <td>0.00</td>\n",
       "      <td>0.000000</td>\n",
       "      <td>2.527738e+00</td>\n",
       "      <td>2.920000e-05</td>\n",
       "      <td>31.781022</td>\n",
       "      <td>0.00000</td>\n",
       "    </tr>\n",
       "    <tr>\n",
       "      <th>1</th>\n",
       "      <td>0.000000e+00</td>\n",
       "      <td>235</td>\n",
       "      <td>0.00</td>\n",
       "      <td>0.000000</td>\n",
       "      <td>2.527738e+00</td>\n",
       "      <td>2.880000e-05</td>\n",
       "      <td>154.463801</td>\n",
       "      <td>0.00000</td>\n",
       "    </tr>\n",
       "    <tr>\n",
       "      <th>2</th>\n",
       "      <td>0.000000e+00</td>\n",
       "      <td>183</td>\n",
       "      <td>0.00</td>\n",
       "      <td>0.000000</td>\n",
       "      <td>2.527738e+00</td>\n",
       "      <td>2.250000e-05</td>\n",
       "      <td>1278.516635</td>\n",
       "      <td>0.00000</td>\n",
       "    </tr>\n",
       "    <tr>\n",
       "      <th>3</th>\n",
       "      <td>0.000000e+00</td>\n",
       "      <td>224</td>\n",
       "      <td>0.00</td>\n",
       "      <td>0.000000</td>\n",
       "      <td>2.527738e+00</td>\n",
       "      <td>2.790000e-05</td>\n",
       "      <td>22186.687990</td>\n",
       "      <td>0.00000</td>\n",
       "    </tr>\n",
       "    <tr>\n",
       "      <th>4</th>\n",
       "      <td>0.000000e+00</td>\n",
       "      <td>218</td>\n",
       "      <td>0.00</td>\n",
       "      <td>0.000000</td>\n",
       "      <td>2.527738e+00</td>\n",
       "      <td>2.690000e-05</td>\n",
       "      <td>689.179876</td>\n",
       "      <td>0.00000</td>\n",
       "    </tr>\n",
       "    <tr>\n",
       "      <th>...</th>\n",
       "      <td>...</td>\n",
       "      <td>...</td>\n",
       "      <td>...</td>\n",
       "      <td>...</td>\n",
       "      <td>...</td>\n",
       "      <td>...</td>\n",
       "      <td>...</td>\n",
       "      <td>...</td>\n",
       "    </tr>\n",
       "    <tr>\n",
       "      <th>2901</th>\n",
       "      <td>1.940000e+11</td>\n",
       "      <td>193578</td>\n",
       "      <td>23654604.11</td>\n",
       "      <td>126.855696</td>\n",
       "      <td>2.600000e+12</td>\n",
       "      <td>2.031575e+07</td>\n",
       "      <td>1.778601</td>\n",
       "      <td>11524.77667</td>\n",
       "    </tr>\n",
       "    <tr>\n",
       "      <th>2902</th>\n",
       "      <td>1.980000e+11</td>\n",
       "      <td>213446</td>\n",
       "      <td>24143236.92</td>\n",
       "      <td>117.430262</td>\n",
       "      <td>2.600000e+12</td>\n",
       "      <td>2.044515e+07</td>\n",
       "      <td>1.302242</td>\n",
       "      <td>11765.71000</td>\n",
       "    </tr>\n",
       "    <tr>\n",
       "      <th>2903</th>\n",
       "      <td>1.890000e+11</td>\n",
       "      <td>232176</td>\n",
       "      <td>21651636.81</td>\n",
       "      <td>96.382352</td>\n",
       "      <td>2.600000e+12</td>\n",
       "      <td>1.915115e+07</td>\n",
       "      <td>1.243012</td>\n",
       "      <td>11212.65500</td>\n",
       "    </tr>\n",
       "    <tr>\n",
       "      <th>2904</th>\n",
       "      <td>1.710000e+11</td>\n",
       "      <td>236609</td>\n",
       "      <td>22124873.97</td>\n",
       "      <td>96.749249</td>\n",
       "      <td>2.600000e+12</td>\n",
       "      <td>2.160975e+07</td>\n",
       "      <td>1.301143</td>\n",
       "      <td>10184.06167</td>\n",
       "    </tr>\n",
       "    <tr>\n",
       "      <th>2905</th>\n",
       "      <td>1.700000e+11</td>\n",
       "      <td>204276</td>\n",
       "      <td>15840583.36</td>\n",
       "      <td>80.529148</td>\n",
       "      <td>2.600000e+12</td>\n",
       "      <td>1.513976e+07</td>\n",
       "      <td>1.016284</td>\n",
       "      <td>10125.01333</td>\n",
       "    </tr>\n",
       "  </tbody>\n",
       "</table>\n",
       "<p>2906 rows × 8 columns</p>\n",
       "</div>"
      ],
      "text/plain": [
       "      btc_market_cap  btc_n_transactions  btc_miners_revenue  \\\n",
       "0       0.000000e+00                 244                0.00   \n",
       "1       0.000000e+00                 235                0.00   \n",
       "2       0.000000e+00                 183                0.00   \n",
       "3       0.000000e+00                 224                0.00   \n",
       "4       0.000000e+00                 218                0.00   \n",
       "...              ...                 ...                 ...   \n",
       "2901    1.940000e+11              193578         23654604.11   \n",
       "2902    1.980000e+11              213446         24143236.92   \n",
       "2903    1.890000e+11              232176         21651636.81   \n",
       "2904    1.710000e+11              236609         22124873.97   \n",
       "2905    1.700000e+11              204276         15840583.36   \n",
       "\n",
       "      btc_cost_per_transaction  btc_difficulty  btc_hash_rate  \\\n",
       "0                     0.000000    2.527738e+00   2.920000e-05   \n",
       "1                     0.000000    2.527738e+00   2.880000e-05   \n",
       "2                     0.000000    2.527738e+00   2.250000e-05   \n",
       "3                     0.000000    2.527738e+00   2.790000e-05   \n",
       "4                     0.000000    2.527738e+00   2.690000e-05   \n",
       "...                        ...             ...            ...   \n",
       "2901                126.855696    2.600000e+12   2.031575e+07   \n",
       "2902                117.430262    2.600000e+12   2.044515e+07   \n",
       "2903                 96.382352    2.600000e+12   1.915115e+07   \n",
       "2904                 96.749249    2.600000e+12   2.160975e+07   \n",
       "2905                 80.529148    2.600000e+12   1.513976e+07   \n",
       "\n",
       "      btc_cost_per_transaction_percent  btc_market_price  \n",
       "0                            31.781022           0.00000  \n",
       "1                           154.463801           0.00000  \n",
       "2                          1278.516635           0.00000  \n",
       "3                         22186.687990           0.00000  \n",
       "4                           689.179876           0.00000  \n",
       "...                                ...               ...  \n",
       "2901                          1.778601       11524.77667  \n",
       "2902                          1.302242       11765.71000  \n",
       "2903                          1.243012       11212.65500  \n",
       "2904                          1.301143       10184.06167  \n",
       "2905                          1.016284       10125.01333  \n",
       "\n",
       "[2906 rows x 8 columns]"
      ]
     },
     "execution_count": 54,
     "metadata": {},
     "output_type": "execute_result"
    }
   ],
   "source": [
    "Bitcoin=data[['btc_market_cap', 'btc_n_transactions','btc_miners_revenue','btc_cost_per_transaction','btc_difficulty',\n",
    "            'btc_hash_rate','btc_cost_per_transaction_percent','btc_market_price']]\n",
    "Bitcoin"
   ]
  },
  {
   "cell_type": "code",
   "execution_count": 55,
   "metadata": {},
   "outputs": [
    {
     "data": {
      "text/plain": [
       "btc_market_cap                       0\n",
       "btc_n_transactions                   0\n",
       "btc_miners_revenue                   0\n",
       "btc_cost_per_transaction             0\n",
       "btc_difficulty                      16\n",
       "btc_hash_rate                        0\n",
       "btc_cost_per_transaction_percent     0\n",
       "btc_market_price                     0\n",
       "dtype: int64"
      ]
     },
     "execution_count": 55,
     "metadata": {},
     "output_type": "execute_result"
    }
   ],
   "source": [
    "Bitcoin.isnull().sum()"
   ]
  },
  {
   "cell_type": "code",
   "execution_count": 56,
   "metadata": {},
   "outputs": [
    {
     "name": "stderr",
     "output_type": "stream",
     "text": [
      "D:\\Ckprogramfiles\\anaconda\\lib\\site-packages\\pandas\\core\\generic.py:6245: SettingWithCopyWarning: \n",
      "A value is trying to be set on a copy of a slice from a DataFrame\n",
      "\n",
      "See the caveats in the documentation: https://pandas.pydata.org/pandas-docs/stable/user_guide/indexing.html#returning-a-view-versus-a-copy\n",
      "  self._update_inplace(new_data)\n"
     ]
    }
   ],
   "source": [
    "mean=Bitcoin.btc_difficulty.mean()\n",
    "Bitcoin.btc_difficulty.fillna(mean, inplace=True)"
   ]
  },
  {
   "cell_type": "code",
   "execution_count": 57,
   "metadata": {},
   "outputs": [
    {
     "data": {
      "text/plain": [
       "btc_market_cap                      0\n",
       "btc_n_transactions                  0\n",
       "btc_miners_revenue                  0\n",
       "btc_cost_per_transaction            0\n",
       "btc_difficulty                      0\n",
       "btc_hash_rate                       0\n",
       "btc_cost_per_transaction_percent    0\n",
       "btc_market_price                    0\n",
       "dtype: int64"
      ]
     },
     "execution_count": 57,
     "metadata": {},
     "output_type": "execute_result"
    }
   ],
   "source": [
    "Bitcoin.isnull().sum()"
   ]
  },
  {
   "cell_type": "code",
   "execution_count": 58,
   "metadata": {},
   "outputs": [],
   "source": [
    "X=Bitcoin.drop(['btc_market_price'],axis='columns',inplace=False)\n",
    "y=Bitcoin['btc_market_price']"
   ]
  },
  {
   "cell_type": "code",
   "execution_count": 59,
   "metadata": {},
   "outputs": [
    {
     "name": "stdout",
     "output_type": "stream",
     "text": [
      "(2324, 7) (582, 7) (2324,) (582,)\n"
     ]
    }
   ],
   "source": [
    "X_train,X_test,y_train,y_test = train_test_split(X,y,test_size=0.2,random_state=0)\n",
    "print(X_train.shape,X_test.shape, y_train.shape,y_test.shape)"
   ]
  },
  {
   "cell_type": "code",
   "execution_count": 63,
   "metadata": {},
   "outputs": [
    {
     "name": "stdout",
     "output_type": "stream",
     "text": [
      "Training completed\n"
     ]
    }
   ],
   "source": [
    "l_reg=LinearRegression()\n",
    "l_reg.fit(X_train,y_train)\n",
    "print(\"Training completed\")"
   ]
  },
  {
   "cell_type": "code",
   "execution_count": 65,
   "metadata": {},
   "outputs": [],
   "source": [
    "y_predict=l_reg.predict(X_test)\n",
    "predictions = l_reg.predict(X_test)"
   ]
  },
  {
   "cell_type": "code",
   "execution_count": 66,
   "metadata": {},
   "outputs": [
    {
     "name": "stdout",
     "output_type": "stream",
     "text": [
      "20.953653402534407\n"
     ]
    }
   ],
   "source": [
    "mse = mean_squared_error(y_test, predictions)\n",
    "rmse = np.sqrt(mse)\n",
    "print(rmse)"
   ]
  },
  {
   "cell_type": "markdown",
   "metadata": {},
   "source": [
    "### The Root Mean Square Error is 20.953653402534407"
   ]
  },
  {
   "cell_type": "code",
   "execution_count": null,
   "metadata": {},
   "outputs": [],
   "source": []
  }
 ],
 "metadata": {
  "kernelspec": {
   "display_name": "Python 3",
   "language": "python",
   "name": "python3"
  },
  "language_info": {
   "codemirror_mode": {
    "name": "ipython",
    "version": 3
   },
   "file_extension": ".py",
   "mimetype": "text/x-python",
   "name": "python",
   "nbconvert_exporter": "python",
   "pygments_lexer": "ipython3",
   "version": "3.8.3"
  }
 },
 "nbformat": 4,
 "nbformat_minor": 4
}
